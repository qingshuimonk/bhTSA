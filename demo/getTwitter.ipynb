{
 "cells": [
  {
   "cell_type": "code",
   "execution_count": 1,
   "metadata": {
    "collapsed": false
   },
   "outputs": [],
   "source": [
    "from nltk.twitter import Query, credsfromfile, TweetViewer\n",
    "import sys\n",
    "sys.path.append(\"../bhtsa\")\n",
    "import process_twt\n",
    "\n",
    "# register a client, search 10 tweets\n",
    "oauth = credsfromfile()\n",
    "client = Query(**oauth)\n",
    "twtNum = 10\n",
    "client.register(TweetViewer(limit=twtNum))"
   ]
  },
  {
   "cell_type": "code",
   "execution_count": 2,
   "metadata": {
    "collapsed": false
   },
   "outputs": [
    {
     "name": "stdout",
     "output_type": "stream",
     "text": [
      "AT_USER no sticker but saw pidgey at the voting location lol! pokemongo northcapemay URL\n",
      "rt AT_USER world history with pokemongo. share your photos of pokémon at historic places using the ar camera. URL\n",
      "rt AT_USER i just named my fierce new vaporeon after our fierce new president. i'm calling it. pokemongo vote2016 URL\n",
      "i wouldn't be so mad about niantic blocking fast maps if they including a fucking tracking feature in their game. pokemongo\n",
      "nice animation!! pokemon pokemongo URL pikachu charizard\n",
      "rt AT_USER love a good cookie stop. AT_USER turns up for pokemon! nom smallbiz shoplocal pikachu pokemongo URL\n",
      "rt AT_USER i just named my fierce new vaporeon after our fierce new president. i'm calling it. pokemongo vote2016 URL\n",
      "blue/red’s only trainers you could rematch were the elite for and the champion pokemongo pokemongouk\n",
      "rt AT_USER i just named my fierce new vaporeon after our fierce new president. i'm calling it. pokemongo vote2016 URL\n",
      "rt AT_USER world history with pokemongo. share your photos of pokémon at historic places using the ar camera. URL\n"
     ]
    }
   ],
   "source": [
    "# search some key words and print them out\n",
    "# 'pokemongo' for example\n",
    "tweets_gen = client.search_tweets(keywords='pokemongo', limit=twtNum, lang='en')\n",
    "tweets = []\n",
    "slangdict = process_twt.get_slang_dict()\n",
    "for t in tweets_gen:\n",
    "    print process_twt.preprocess(t['text'], slangdict=slangdict)"
   ]
  },
  {
   "cell_type": "code",
   "execution_count": null,
   "metadata": {
    "collapsed": true
   },
   "outputs": [],
   "source": []
  }
 ],
 "metadata": {
  "anaconda-cloud": {},
  "kernelspec": {
   "display_name": "Python [default]",
   "language": "python",
   "name": "python2"
  },
  "language_info": {
   "codemirror_mode": {
    "name": "ipython",
    "version": 2
   },
   "file_extension": ".py",
   "mimetype": "text/x-python",
   "name": "python",
   "nbconvert_exporter": "python",
   "pygments_lexer": "ipython2",
   "version": "2.7.12"
  }
 },
 "nbformat": 4,
 "nbformat_minor": 0
}
