{
 "cells": [
  {
   "cell_type": "markdown",
   "metadata": {},
   "source": [
    "## LDA Topic Modeling in Python\n",
    "The tutorial can be found [here](https://rstudio-pubs-static.s3.amazonaws.com/79360_850b2a69980c4488b1db95987a24867a.html)"
   ]
  },
  {
   "cell_type": "code",
   "execution_count": 2,
   "metadata": {
    "collapsed": false
   },
   "outputs": [
    {
     "name": "stdout",
     "output_type": "stream",
     "text": [
      "hopeless for tmr :(\n",
      "Everything in the kids section of IKEA is so cute. Shame I'm nearly 19 in 2 months :(\n",
      "@Hegelbon That heart sliding into the waste basket. :(\n",
      "“@ketchBurning: I hate Japanese call him \"bani\" :( :(”\n",
      "\n",
      "Me too\n",
      "Dang starting next week I have \"work\" :(\n",
      "oh god, my babies' faces :( https://t.co/9fcwGvaki0\n",
      "@RileyMcDonough make me smile :((\n",
      "@f0ggstar @stuartthull work neighbour on motors. Asked why and he said hates the updates on search :( http://t.co/XvmTUikWln\n",
      "why?:(\"@tahuodyy: sialan:( https://t.co/Hv1i0xcrL2\"\n",
      "Athabasca glacier was there in #1948 :-( #athabasca #glacier #jasper #jaspernationalpark #alberta #explorealberta #… http://t.co/dZZdqmf7Cz\n"
     ]
    }
   ],
   "source": [
    "from nltk.corpus import twitter_samples, TwitterCorpusReader\n",
    "import sys\n",
    "sys.path.append(\"../bhtsa\")\n",
    "from process_twt import preprocess, get_stopwords, get_slang_dict\n",
    "\n",
    "fileIds = twitter_samples.fileids()\n",
    "root = twitter_samples.root\n",
    "# read some negative tweet data from corpus\n",
    "negReader = TwitterCorpusReader(root, fileIds[0])\n",
    "negTwt = []\n",
    "for tweet in negReader.docs():\n",
    "    negTwt.append((tweet['text']))\n",
    "# take a look at some of the tweets\n",
    "for twt in negTwt[:10]:\n",
    "    print twt"
   ]
  },
  {
   "cell_type": "code",
   "execution_count": 3,
   "metadata": {
    "collapsed": false
   },
   "outputs": [
    {
     "name": "stdout",
     "output_type": "stream",
     "text": [
      "hopeless for tmr :(\n",
      "everything in the kids section of ikea is so cute. shame im nearly 19 in 2 months :(\n",
      "AT_USER that heart sliding into the waste basket. :(\n",
      "“AT_USER i hate japanese call him \"bani\" :( :(” me too\n",
      "dang starting next week i have \"work\" :(\n",
      "oh god, my babies' faces :( URL\n",
      "AT_USER make me smile :((\n",
      "AT_USER AT_USER work neighbour on motors. asked why and he said hates the updates on search :( URL\n",
      "why?:(\"AT_USER sialan:( URL\n",
      "athabasca glacier was there in 1948 :-( athabasca glacier jasper jaspernationalpark alberta explorealberta … URL\n"
     ]
    }
   ],
   "source": [
    "# preprocess them and show them again\n",
    "import re\n",
    "processed_twt = [preprocess(twt) for twt in negTwt]\n",
    "p_twt = []\n",
    "for twt in processed_twt:\n",
    "    twt = re.sub('\\'m', 'm', twt)\n",
    "    twt = re.sub('\\'t', 't', twt)\n",
    "    twt = re.sub('\\'s', '', twt)\n",
    "    p_twt.append(twt)\n",
    "for twt in p_twt[:10]:\n",
    "    print twt"
   ]
  },
  {
   "cell_type": "code",
   "execution_count": 4,
   "metadata": {
    "collapsed": false
   },
   "outputs": [
    {
     "name": "stdout",
     "output_type": "stream",
     "text": [
      "[u'kids', u'section', u'ikea', u'cute', u'shame', 'Instant Message', u'nearly', u'months']\n"
     ]
    }
   ],
   "source": [
    "# remove stop words and transfer slangs\n",
    "import re\n",
    "stop_words = get_stopwords()\n",
    "slang_dict = get_slang_dict()\n",
    "doc_set_removed = []\n",
    "for twt in p_twt:\n",
    "    removed = []\n",
    "    words = twt.split()\n",
    "    for w in words:\n",
    "        # strip punctuation\n",
    "        w = w.strip('\\'\"?,.')\n",
    "        # check if the word stats with an alphabet\n",
    "        val = re.search(r\"^[a-zA-Z][a-zA-Z0-9]*$\", w)\n",
    "        # ignore if it is a stop word\n",
    "        if w.strip() in slang_dict:\n",
    "            w = slang_dict[w.strip()]\n",
    "        if w in stop_words or val is None:\n",
    "            continue\n",
    "        else:\n",
    "            removed.append(w)\n",
    "    doc_set_removed.append(removed)\n",
    "print doc_set_removed[1]"
   ]
  },
  {
   "cell_type": "code",
   "execution_count": 5,
   "metadata": {
    "collapsed": false
   },
   "outputs": [
    {
     "name": "stdout",
     "output_type": "stream",
     "text": [
      "[u'kids', u'section', u'ikea', u'cute', u'shame', u'Instant', u'Message', u'nearly', u'months']\n"
     ]
    }
   ],
   "source": [
    "# tokenization\n",
    "doc_set = []\n",
    "from nltk.tokenize import RegexpTokenizer\n",
    "tokenizer = RegexpTokenizer(r'\\w+')\n",
    "for twt in doc_set_removed:\n",
    "    tokens = doc_set.append(tokenizer.tokenize(' '.join(twt)))\n",
    "print doc_set[1]"
   ]
  },
  {
   "cell_type": "code",
   "execution_count": 6,
   "metadata": {
    "collapsed": false
   },
   "outputs": [
    {
     "name": "stdout",
     "output_type": "stream",
     "text": [
      "[u'kid', u'section', u'ikea', u'cute', u'shame', u'Instant', u'Messag', u'nearli', u'month']\n"
     ]
    }
   ],
   "source": [
    "# stemming\n",
    "from nltk.stem.porter import PorterStemmer\n",
    "p_stemmer = PorterStemmer()\n",
    "texts = []\n",
    "for txt in doc_set:\n",
    "    texts.append([p_stemmer.stem(i) for i in txt])\n",
    "print texts[1]"
   ]
  },
  {
   "cell_type": "code",
   "execution_count": 7,
   "metadata": {
    "collapsed": false
   },
   "outputs": [
    {
     "name": "stdout",
     "output_type": "stream",
     "text": [
      "[(0, 1), (1, 1)]\n"
     ]
    }
   ],
   "source": [
    "# construct document matrix\n",
    "from gensim import corpora, models\n",
    "dictionary = corpora.Dictionary(texts)\n",
    "# convert to bag of words\n",
    "corpus = [dictionary.doc2bow(text) for text in texts]\n",
    "print corpus[0]"
   ]
  },
  {
   "cell_type": "code",
   "execution_count": 8,
   "metadata": {
    "collapsed": false
   },
   "outputs": [],
   "source": [
    "# apply lda model, this might take a long time\n",
    "import gensim\n",
    "ldamodel = gensim.models.ldamodel.LdaModel(corpus, num_topics=10, id2word=dictionary, passes=100)"
   ]
  },
  {
   "cell_type": "code",
   "execution_count": 9,
   "metadata": {
    "collapsed": false
   },
   "outputs": [
    {
     "data": {
      "text/plain": [
       "[(0,\n",
       "  u'0.035*\"day\" + 0.020*\"hate\" + 0.020*\"time\" + 0.018*\"yeah\" + 0.015*\"mean\" + 0.012*\"final\" + 0.010*\"a\" + 0.009*\"pictur\" + 0.008*\"holiday\" + 0.008*\"buy\"'),\n",
       " (1,\n",
       "  u'0.039*\"wish\" + 0.037*\"sleep\" + 0.028*\"sad\" + 0.018*\"cant\" + 0.016*\"applic\" + 0.013*\"day\" + 0.013*\"not\" + 0.011*\"birthday\" + 0.010*\"mayb\" + 0.008*\"tonight\"'),\n",
       " (2,\n",
       "  u'0.043*\"didnt\" + 0.015*\"ye\" + 0.013*\"heart\" + 0.011*\"twitter\" + 0.010*\"wait\" + 0.009*\"thesi\" + 0.008*\"true\" + 0.008*\"hour\" + 0.008*\"singl\" + 0.008*\"car\"'),\n",
       " (3,\n",
       "  u'0.096*\"pleas\" + 0.076*\"follow\" + 0.037*\"love\" + 0.033*\"thank\" + 0.015*\"miss\" + 0.013*\"cute\" + 0.011*\"ice\" + 0.011*\"believ\" + 0.010*\"justin\" + 0.010*\"feel\"'),\n",
       " (4,\n",
       "  u'0.100*\"t\" + 0.098*\"don\" + 0.026*\"kik\" + 0.020*\"guy\" + 0.015*\"know\" + 0.015*\"I\" + 0.011*\"rain\" + 0.009*\"nice\" + 0.008*\"bye\" + 0.008*\"money\"'),\n",
       " (5,\n",
       "  u'0.130*\"Messag\" + 0.130*\"Instant\" + 0.022*\"okay\" + 0.019*\"miss\" + 0.015*\"babi\" + 0.012*\"hope\" + 0.012*\"peopl\" + 0.010*\"sad\" + 0.008*\"time\" + 0.007*\"hair\"'),\n",
       " (6,\n",
       "  u'0.036*\"snapchat\" + 0.016*\"fun\" + 0.014*\"isnt\" + 0.013*\"time\" + 0.012*\"week\" + 0.012*\"start\" + 0.010*\"support\" + 0.008*\"i\" + 0.007*\"tri\" + 0.007*\"name\"'),\n",
       " (7,\n",
       "  u'0.051*\"cant\" + 0.044*\"sorri\" + 0.037*\"feel\" + 0.015*\"wont\" + 0.015*\"bad\" + 0.013*\"night\" + 0.012*\"cri\" + 0.012*\"look\" + 0.011*\"hurt\" + 0.010*\"happen\"'),\n",
       " (8,\n",
       "  u'0.069*\"miss\" + 0.022*\"out\" + 0.021*\"to\" + 0.020*\"tire\" + 0.019*\"laugh\" + 0.018*\"loud\" + 0.016*\"go\" + 0.013*\"fuck\" + 0.009*\"watch\" + 0.009*\"aw\"'),\n",
       " (9,\n",
       "  u'0.049*\"oh\" + 0.049*\"to\" + 0.039*\"want\" + 0.031*\"my\" + 0.024*\"am\" + 0.023*\"God\" + 0.012*\"home\" + 0.011*\"head\" + 0.010*\"leav\" + 0.010*\"sick\"')]"
      ]
     },
     "execution_count": 9,
     "metadata": {},
     "output_type": "execute_result"
    }
   ],
   "source": [
    "ldamodel.print_topics(num_topics=10, num_words=10)"
   ]
  },
  {
   "cell_type": "code",
   "execution_count": null,
   "metadata": {
    "collapsed": true
   },
   "outputs": [],
   "source": []
  }
 ],
 "metadata": {
  "anaconda-cloud": {},
  "kernelspec": {
   "display_name": "Python [conda env:bhplayground]",
   "language": "python",
   "name": "conda-env-bhplayground-py"
  },
  "language_info": {
   "codemirror_mode": {
    "name": "ipython",
    "version": 2
   },
   "file_extension": ".py",
   "mimetype": "text/x-python",
   "name": "python",
   "nbconvert_exporter": "python",
   "pygments_lexer": "ipython2",
   "version": "2.7.12"
  }
 },
 "nbformat": 4,
 "nbformat_minor": 1
}
