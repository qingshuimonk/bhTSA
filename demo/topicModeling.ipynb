{
 "cells": [
  {
   "cell_type": "markdown",
   "metadata": {},
   "source": [
    "## LDA Topic Modeling in Python\n",
    "The tutorial can be found [here](https://rstudio-pubs-static.s3.amazonaws.com/79360_850b2a69980c4488b1db95987a24867a.html)"
   ]
  },
  {
   "cell_type": "code",
   "execution_count": 76,
   "metadata": {
    "collapsed": false
   },
   "outputs": [
    {
     "name": "stdout",
     "output_type": "stream",
     "text": [
      "hopeless for tmr :(\n",
      "Everything in the kids section of IKEA is so cute. Shame I'm nearly 19 in 2 months :(\n",
      "@Hegelbon That heart sliding into the waste basket. :(\n",
      "“@ketchBurning: I hate Japanese call him \"bani\" :( :(”\n",
      "\n",
      "Me too\n",
      "Dang starting next week I have \"work\" :(\n",
      "oh god, my babies' faces :( https://t.co/9fcwGvaki0\n",
      "@RileyMcDonough make me smile :((\n",
      "@f0ggstar @stuartthull work neighbour on motors. Asked why and he said hates the updates on search :( http://t.co/XvmTUikWln\n",
      "why?:(\"@tahuodyy: sialan:( https://t.co/Hv1i0xcrL2\"\n",
      "Athabasca glacier was there in #1948 :-( #athabasca #glacier #jasper #jaspernationalpark #alberta #explorealberta #… http://t.co/dZZdqmf7Cz\n"
     ]
    }
   ],
   "source": [
    "from nltk.corpus import twitter_samples, TwitterCorpusReader\n",
    "import sys\n",
    "sys.path.append(\"../bhtsa\")\n",
    "from process_twt import preprocess, get_stopwords, get_slang_dict\n",
    "\n",
    "fileIds = twitter_samples.fileids()\n",
    "root = twitter_samples.root\n",
    "# read some negative tweet data from corpus\n",
    "negReader = TwitterCorpusReader(root, fileIds[0])\n",
    "negTwt = []\n",
    "for tweet in negReader.docs():\n",
    "    negTwt.append((tweet['text']))\n",
    "# take a look at some of the tweets\n",
    "for twt in negTwt[:10]:\n",
    "    print twt"
   ]
  },
  {
   "cell_type": "code",
   "execution_count": 8,
   "metadata": {
    "collapsed": false
   },
   "outputs": [
    {
     "name": "stdout",
     "output_type": "stream",
     "text": [
      "hopeless for tmr :(\n",
      "everything in the kids section of ikea is so cute. shame i'm nearly 19 in 2 months :(\n",
      "AT_USER that heart sliding into the waste basket. :(\n",
      "“AT_USER i hate japanese call him \"bani\" :( :(” me too\n",
      "dang starting next week i have \"work\" :(\n",
      "oh god, my babies' faces :( URL\n",
      "AT_USER make me smile :((\n",
      "AT_USER AT_USER work neighbour on motors. asked why and he said hates the updates on search :( URL\n",
      "why?:(\"AT_USER sialan:( URL\n",
      "athabasca glacier was there in 1948 :-( athabasca glacier jasper jaspernationalpark alberta explorealberta … URL\n"
     ]
    }
   ],
   "source": [
    "# preprocess them and show them again\n",
    "processed_twt = [preprocess(twt) for twt in negTwt]\n",
    "for twt in processed_twt[:10]:\n",
    "    print twt"
   ]
  },
  {
   "cell_type": "code",
   "execution_count": 79,
   "metadata": {
    "collapsed": false
   },
   "outputs": [
    {
     "name": "stdout",
     "output_type": "stream",
     "text": [
      "[u'kids', u'section', u'ikea', u'cute', u'shame', u'nearly', u'months']\n"
     ]
    }
   ],
   "source": [
    "# remove stop words and transfer slangs\n",
    "import re\n",
    "stop_words = get_stopwords()\n",
    "slang_dict = get_slang_dict()\n",
    "doc_set_removed = []\n",
    "for twt in processed_twt:\n",
    "    removed = []\n",
    "    words = twt.split()\n",
    "    for w in words:\n",
    "        # strip punctuation\n",
    "        w = w.strip('\\'\"?,.')\n",
    "        # check if the word stats with an alphabet\n",
    "        val = re.search(r\"^[a-zA-Z][a-zA-Z0-9]*$\", w)\n",
    "        # ignore if it is a stop word\n",
    "        if w.strip() in slang_dict:\n",
    "            w = slang_dict[w.strip()]\n",
    "        if w in stop_words or val is None:\n",
    "            continue\n",
    "        else:\n",
    "            removed.append(w)\n",
    "    doc_set_removed.append(removed)\n",
    "print doc_set_removed[1]"
   ]
  },
  {
   "cell_type": "code",
   "execution_count": 80,
   "metadata": {
    "collapsed": false
   },
   "outputs": [
    {
     "name": "stdout",
     "output_type": "stream",
     "text": [
      "[u'kids', u'section', u'ikea', u'cute', u'shame', u'nearly', u'months']\n"
     ]
    }
   ],
   "source": [
    "# tokenization\n",
    "doc_set = []\n",
    "from nltk.tokenize import RegexpTokenizer\n",
    "tokenizer = RegexpTokenizer(r'\\w+')\n",
    "for twt in doc_set_removed[:10]:\n",
    "    tokens = doc_set.append(tokenizer.tokenize(' '.join(twt)))\n",
    "print doc_set[1]"
   ]
  },
  {
   "cell_type": "code",
   "execution_count": 81,
   "metadata": {
    "collapsed": false
   },
   "outputs": [
    {
     "name": "stdout",
     "output_type": "stream",
     "text": [
      "[u'kid', u'section', u'ikea', u'cute', u'shame', u'nearli', u'month']\n"
     ]
    }
   ],
   "source": [
    "# stemming\n",
    "from nltk.stem.porter import PorterStemmer\n",
    "p_stemmer = PorterStemmer()\n",
    "texts = []\n",
    "for txt in doc_set:\n",
    "    texts.append([p_stemmer.stem(i) for i in txt])\n",
    "print texts[1]"
   ]
  },
  {
   "cell_type": "code",
   "execution_count": 82,
   "metadata": {
    "collapsed": false
   },
   "outputs": [
    {
     "name": "stdout",
     "output_type": "stream",
     "text": [
      "[(0, 1), (1, 1)]\n"
     ]
    }
   ],
   "source": [
    "# construct document matrix\n",
    "from gensim import corpora, models\n",
    "dictionary = corpora.Dictionary(texts)\n",
    "# convert to bag of words\n",
    "corpus = [dictionary.doc2bow(text) for text in texts]\n",
    "print corpus[0]"
   ]
  },
  {
   "cell_type": "code",
   "execution_count": 83,
   "metadata": {
    "collapsed": false
   },
   "outputs": [],
   "source": [
    "# apply lda model\n",
    "import gensim\n",
    "ldamodel = gensim.models.ldamodel.LdaModel(corpus, num_topics=5, id2word=dictionary, passes=100)"
   ]
  },
  {
   "cell_type": "code",
   "execution_count": 85,
   "metadata": {
    "collapsed": false
   },
   "outputs": [
    {
     "data": {
      "text/plain": [
       "[(0,\n",
       "  u'0.029*\"smile\" + 0.029*\"tomorrow\" + 0.029*\"hopeless\" + 0.029*\"hate\" + 0.029*\"week\" + 0.029*\"dang\" + 0.029*\"start\" + 0.029*\"oh\" + 0.029*\"god\" + 0.029*\"babi\"'),\n",
       " (1,\n",
       "  u'0.131*\"glacier\" + 0.131*\"athabasca\" + 0.071*\"jaspernationalpark\" + 0.071*\"explorealberta\" + 0.071*\"jasper\" + 0.071*\"alberta\" + 0.071*\"hopeless\" + 0.071*\"tomorrow\" + 0.012*\"smile\" + 0.012*\"hate\"'),\n",
       " (2,\n",
       "  u'0.067*\"kid\" + 0.067*\"nearli\" + 0.067*\"shame\" + 0.067*\"month\" + 0.067*\"cute\" + 0.067*\"section\" + 0.067*\"ikea\" + 0.067*\"start\" + 0.067*\"week\" + 0.067*\"dang\"'),\n",
       " (3,\n",
       "  u'0.081*\"basket\" + 0.081*\"heart\" + 0.081*\"slide\" + 0.081*\"wast\" + 0.081*\"call\" + 0.081*\"japanes\" + 0.081*\"bani\" + 0.081*\"hate\" + 0.014*\"smile\" + 0.014*\"hopeless\"'),\n",
       " (4,\n",
       "  u'0.081*\"hate\" + 0.081*\"neighbour\" + 0.081*\"motor\" + 0.081*\"search\" + 0.081*\"updat\" + 0.081*\"babi\" + 0.081*\"oh\" + 0.081*\"god\" + 0.014*\"smile\" + 0.014*\"tomorrow\"')]"
      ]
     },
     "execution_count": 85,
     "metadata": {},
     "output_type": "execute_result"
    }
   ],
   "source": [
    "ldamodel.print_topics(num_topics=5, num_words=10)"
   ]
  },
  {
   "cell_type": "code",
   "execution_count": null,
   "metadata": {
    "collapsed": true
   },
   "outputs": [],
   "source": []
  }
 ],
 "metadata": {
  "anaconda-cloud": {},
  "kernelspec": {
   "display_name": "Python [conda env:bhplayground]",
   "language": "python",
   "name": "conda-env-bhplayground-py"
  },
  "language_info": {
   "codemirror_mode": {
    "name": "ipython",
    "version": 2
   },
   "file_extension": ".py",
   "mimetype": "text/x-python",
   "name": "python",
   "nbconvert_exporter": "python",
   "pygments_lexer": "ipython2",
   "version": "2.7.12"
  }
 },
 "nbformat": 4,
 "nbformat_minor": 1
}
