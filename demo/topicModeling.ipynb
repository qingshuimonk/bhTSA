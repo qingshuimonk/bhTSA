{
 "cells": [
  {
   "cell_type": "markdown",
   "metadata": {},
   "source": [
    "## LDA Topic Modeling in Python\n",
    "The tutorial can be found [here](https://rstudio-pubs-static.s3.amazonaws.com/79360_850b2a69980c4488b1db95987a24867a.html)"
   ]
  },
  {
   "cell_type": "code",
   "execution_count": 1,
   "metadata": {
    "collapsed": false
   },
   "outputs": [
    {
     "name": "stdout",
     "output_type": "stream",
     "text": [
      "hopeless for tmr :(\n",
      "Everything in the kids section of IKEA is so cute. Shame I'm nearly 19 in 2 months :(\n",
      "@Hegelbon That heart sliding into the waste basket. :(\n",
      "“@ketchBurning: I hate Japanese call him \"bani\" :( :(”\n",
      "\n",
      "Me too\n",
      "Dang starting next week I have \"work\" :(\n",
      "oh god, my babies' faces :( https://t.co/9fcwGvaki0\n",
      "@RileyMcDonough make me smile :((\n",
      "@f0ggstar @stuartthull work neighbour on motors. Asked why and he said hates the updates on search :( http://t.co/XvmTUikWln\n",
      "why?:(\"@tahuodyy: sialan:( https://t.co/Hv1i0xcrL2\"\n",
      "Athabasca glacier was there in #1948 :-( #athabasca #glacier #jasper #jaspernationalpark #alberta #explorealberta #… http://t.co/dZZdqmf7Cz\n"
     ]
    }
   ],
   "source": [
    "from nltk.corpus import twitter_samples, TwitterCorpusReader\n",
    "import sys\n",
    "sys.path.append(\"../bhtsa\")\n",
    "from process_twt import preprocess, get_stopwords, get_slang_dict\n",
    "\n",
    "fileIds = twitter_samples.fileids()\n",
    "root = twitter_samples.root\n",
    "# read some negative tweet data from corpus\n",
    "negReader = TwitterCorpusReader(root, fileIds[0])\n",
    "negTwt = []\n",
    "for tweet in negReader.docs():\n",
    "    negTwt.append((tweet['text']))\n",
    "# take a look at some of the tweets\n",
    "for twt in negTwt[:10]:\n",
    "    print twt"
   ]
  },
  {
   "cell_type": "code",
   "execution_count": 121,
   "metadata": {
    "collapsed": false
   },
   "outputs": [
    {
     "name": "stdout",
     "output_type": "stream",
     "text": [
      "hopeless for tmr :(\n",
      "everything in the kids section of ikea is so cute. shame im nearly 19 in 2 months :(\n",
      "AT_USER that heart sliding into the waste basket. :(\n",
      "“AT_USER i hate japanese call him \"bani\" :( :(” me too\n",
      "dang starting next week i have \"work\" :(\n",
      "oh god, my babies' faces :( URL\n",
      "AT_USER make me smile :((\n",
      "AT_USER AT_USER work neighbour on motors. asked why and he said hates the updates on search :( URL\n",
      "why?:(\"AT_USER sialan:( URL\n",
      "athabasca glacier was there in 1948 :-( athabasca glacier jasper jaspernationalpark alberta explorealberta … URL\n"
     ]
    }
   ],
   "source": [
    "# preprocess them and show them again\n",
    "import re\n",
    "processed_twt = [preprocess(twt) for twt in negTwt]\n",
    "p_twt = []\n",
    "for twt in processed_twt:\n",
    "    twt = re.sub('\\'m', 'm', twt)\n",
    "    twt = re.sub('\\'t', 't', twt)\n",
    "    twt = re.sub('\\'s', '', twt)\n",
    "    p_twt.append(twt)\n",
    "for twt in p_twt[:10]:\n",
    "    print twt"
   ]
  },
  {
   "cell_type": "code",
   "execution_count": 122,
   "metadata": {
    "collapsed": false
   },
   "outputs": [
    {
     "name": "stdout",
     "output_type": "stream",
     "text": [
      "[u'kids', u'section', u'ikea', u'cute', u'shame', 'Instant Message', u'nearly', u'months']\n"
     ]
    }
   ],
   "source": [
    "# remove stop words and transfer slangs\n",
    "import re\n",
    "stop_words = get_stopwords()\n",
    "slang_dict = get_slang_dict()\n",
    "doc_set_removed = []\n",
    "for twt in p_twt:\n",
    "    removed = []\n",
    "    words = twt.split()\n",
    "    for w in words:\n",
    "        # strip punctuation\n",
    "        w = w.strip('\\'\"?,.')\n",
    "        # check if the word stats with an alphabet\n",
    "        val = re.search(r\"^[a-zA-Z][a-zA-Z0-9]*$\", w)\n",
    "        # ignore if it is a stop word\n",
    "        if w.strip() in slang_dict:\n",
    "            w = slang_dict[w.strip()]\n",
    "        if w in stop_words or val is None:\n",
    "            continue\n",
    "        else:\n",
    "            removed.append(w)\n",
    "    doc_set_removed.append(removed)\n",
    "print doc_set_removed[1]"
   ]
  },
  {
   "cell_type": "code",
   "execution_count": 123,
   "metadata": {
    "collapsed": false
   },
   "outputs": [
    {
     "name": "stdout",
     "output_type": "stream",
     "text": [
      "[u'kids', u'section', u'ikea', u'cute', u'shame', u'Instant', u'Message', u'nearly', u'months']\n"
     ]
    }
   ],
   "source": [
    "# tokenization\n",
    "doc_set = []\n",
    "from nltk.tokenize import RegexpTokenizer\n",
    "tokenizer = RegexpTokenizer(r'\\w+')\n",
    "for twt in doc_set_removed:\n",
    "    tokens = doc_set.append(tokenizer.tokenize(' '.join(twt)))\n",
    "print doc_set[1]"
   ]
  },
  {
   "cell_type": "code",
   "execution_count": 124,
   "metadata": {
    "collapsed": false
   },
   "outputs": [
    {
     "name": "stdout",
     "output_type": "stream",
     "text": [
      "[u'kid', u'section', u'ikea', u'cute', u'shame', u'Instant', u'Messag', u'nearli', u'month']\n"
     ]
    }
   ],
   "source": [
    "# stemming\n",
    "from nltk.stem.porter import PorterStemmer\n",
    "p_stemmer = PorterStemmer()\n",
    "texts = []\n",
    "for txt in doc_set:\n",
    "    texts.append([p_stemmer.stem(i) for i in txt])\n",
    "print texts[1]"
   ]
  },
  {
   "cell_type": "code",
   "execution_count": 125,
   "metadata": {
    "collapsed": false
   },
   "outputs": [
    {
     "name": "stdout",
     "output_type": "stream",
     "text": [
      "[(0, 1), (1, 1)]\n"
     ]
    }
   ],
   "source": [
    "# construct document matrix\n",
    "from gensim import corpora, models\n",
    "dictionary = corpora.Dictionary(texts)\n",
    "# convert to bag of words\n",
    "corpus = [dictionary.doc2bow(text) for text in texts]\n",
    "print corpus[0]"
   ]
  },
  {
   "cell_type": "code",
   "execution_count": 128,
   "metadata": {
    "collapsed": false
   },
   "outputs": [],
   "source": [
    "# apply lda model, this might take a long time\n",
    "import gensim\n",
    "ldamodel = gensim.models.ldamodel.LdaModel(corpus, num_topics=5, id2word=dictionary, passes=100)"
   ]
  },
  {
   "cell_type": "code",
   "execution_count": 127,
   "metadata": {
    "collapsed": false
   },
   "outputs": [
    {
     "data": {
      "text/plain": [
       "[(0,\n",
       "  u'0.011*\"peopl\" + 0.010*\"wish\" + 0.010*\"cant\" + 0.009*\"aw\" + 0.009*\"hate\" + 0.008*\"poor\" + 0.008*\"cute\" + 0.008*\"aww\" + 0.008*\"week\" + 0.007*\"ice\"'),\n",
       " (1,\n",
       "  u'0.052*\"t\" + 0.051*\"don\" + 0.033*\"to\" + 0.018*\"want\" + 0.011*\"didnt\" + 0.010*\"go\" + 0.008*\"know\" + 0.008*\"watch\" + 0.008*\"I\" + 0.008*\"rain\"'),\n",
       " (2,\n",
       "  u'0.054*\"miss\" + 0.021*\"oh\" + 0.018*\"time\" + 0.018*\"cant\" + 0.017*\"my\" + 0.012*\"laugh\" + 0.010*\"God\" + 0.009*\"out\" + 0.009*\"loud\" + 0.009*\"yeah\"'),\n",
       " (3,\n",
       "  u'0.053*\"pleas\" + 0.042*\"follow\" + 0.019*\"love\" + 0.019*\"thank\" + 0.015*\"hope\" + 0.014*\"sorri\" + 0.009*\"okay\" + 0.009*\"get\" + 0.008*\"time\" + 0.007*\"applic\"'),\n",
       " (4,\n",
       "  u'0.075*\"Messag\" + 0.075*\"Instant\" + 0.019*\"feel\" + 0.014*\"snapchat\" + 0.012*\"kik\" + 0.012*\"sad\" + 0.011*\"cant\" + 0.009*\"sorri\" + 0.009*\"tire\" + 0.009*\"look\"')]"
      ]
     },
     "execution_count": 127,
     "metadata": {},
     "output_type": "execute_result"
    }
   ],
   "source": [
    "ldamodel.print_topics(num_topics=5, num_words=10)"
   ]
  },
  {
   "cell_type": "code",
   "execution_count": null,
   "metadata": {
    "collapsed": true
   },
   "outputs": [],
   "source": []
  }
 ],
 "metadata": {
  "anaconda-cloud": {},
  "kernelspec": {
   "display_name": "Python [conda env:bhplayground]",
   "language": "python",
   "name": "conda-env-bhplayground-py"
  },
  "language_info": {
   "codemirror_mode": {
    "name": "ipython",
    "version": 2
   },
   "file_extension": ".py",
   "mimetype": "text/x-python",
   "name": "python",
   "nbconvert_exporter": "python",
   "pygments_lexer": "ipython2",
   "version": "2.7.12"
  }
 },
 "nbformat": 4,
 "nbformat_minor": 1
}
