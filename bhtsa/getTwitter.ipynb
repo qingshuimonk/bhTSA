{
 "cells": [
  {
   "cell_type": "code",
   "execution_count": 5,
   "metadata": {
    "collapsed": true
   },
   "outputs": [],
   "source": [
    "from nltk.twitter import Query, credsfromfile, TweetViewer\n",
    "import process_twt\n",
    "\n",
    "# register a client, search 10 tweets\n",
    "oauth = credsfromfile()\n",
    "client = Query(**oauth)\n",
    "twtNum = 10\n",
    "client.register(TweetViewer(limit=twtNum))"
   ]
  },
  {
   "cell_type": "code",
   "execution_count": 6,
   "metadata": {
    "collapsed": false
   },
   "outputs": [
    {
     "name": "stdout",
     "output_type": "stream",
     "text": [
      "hypno ☑ gengar ☑ thank you pokémon go halloween event!! too more down a few more to go! pokemongo\n",
      "pokemongo teamvalor is the best. rt AT_USER pixlr pokemongohalloween teamvalor finally! lvl 30! URL\n",
      "how i used pokemongo to generate tons of viral traffic (my method revealed) URL URL\n",
      "pokemongo teamvalor is the best. rt AT_USER 420 blaze it 😂😂 teamvalor pokemongo URL\n",
      "how i used pokemongo to generate tons of viral traffic (my method revealed) URL URL\n",
      "i have the lugia personality. and you? sign in: URL URL pokemongo\n",
      "pokemon go' cheat: two hacks no pokemongo pokemongomarketing pokemongoadvertising URL URL\n",
      "i have the lugia personality. and you? sign in: URL URL pokemongo\n",
      "i have the lugia personality. and you? sign in: URL URL pokemongo\n",
      "i have the lugia personality. and you? sign in: URL URL pokemongo\n"
     ]
    }
   ],
   "source": [
    "# search some key words and print them out\n",
    "# 'pokemongo' for example\n",
    "tweets_gen = client.search_tweets(keywords='pokemongo', limit=twtNum, lang='en')\n",
    "tweets = []\n",
    "slangdict = process_twt.get_slangdictionary()\n",
    "for t in tweets_gen:\n",
    "    print process_twt.preprocess(t['text'], slangdict=slangdict)"
   ]
  },
  {
   "cell_type": "code",
   "execution_count": null,
   "metadata": {
    "collapsed": true
   },
   "outputs": [],
   "source": []
  }
 ],
 "metadata": {
  "anaconda-cloud": {},
  "kernelspec": {
   "display_name": "Python [conda env:bhplayground]",
   "language": "python",
   "name": "conda-env-bhplayground-py"
  },
  "language_info": {
   "codemirror_mode": {
    "name": "ipython",
    "version": 2
   },
   "file_extension": ".py",
   "mimetype": "text/x-python",
   "name": "python",
   "nbconvert_exporter": "python",
   "pygments_lexer": "ipython2",
   "version": "2.7.12"
  }
 },
 "nbformat": 4,
 "nbformat_minor": 1
}
