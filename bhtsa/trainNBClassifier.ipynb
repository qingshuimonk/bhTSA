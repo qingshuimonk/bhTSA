{
 "cells": [
  {
   "cell_type": "code",
   "execution_count": 3,
   "metadata": {
    "collapsed": false
   },
   "outputs": [],
   "source": [
    "from nltk.corpus import twitter_samples, TwitterCorpusReader\n",
    "from NBClassifier import NBClassifier\n",
    "\n",
    "fileIds = twitter_samples.fileids()\n",
    "root = twitter_samples.root\n",
    "\n",
    "# read tweet data from corpus\n",
    "negReader = TwitterCorpusReader(root, fileIds[0])\n",
    "negTwt = []\n",
    "posReader = TwitterCorpusReader(root, fileIds[1])\n",
    "posTwt = []\n",
    "for tweet in negReader.docs():\n",
    "    negTwt.append((tweet['text']))\n",
    "for tweet in posReader.docs():\n",
    "    posTwt.append((tweet['text']))"
   ]
  },
  {
   "cell_type": "code",
   "execution_count": 6,
   "metadata": {
    "collapsed": false
   },
   "outputs": [
    {
     "name": "stdout",
     "output_type": "stream",
     "text": [
      "=========================negative=========================\n",
      "hopeless for tmr :(\n",
      "Everything in the kids section of IKEA is so cute. Shame I'm nearly 19 in 2 months :(\n",
      "@Hegelbon That heart sliding into the waste basket. :(\n",
      "“@ketchBurning: I hate Japanese call him \"bani\" :( :(”\n",
      "\n",
      "Me too\n",
      "Dang starting next week I have \"work\" :(\n",
      "oh god, my babies' faces :( https://t.co/9fcwGvaki0\n",
      "@RileyMcDonough make me smile :((\n",
      "@f0ggstar @stuartthull work neighbour on motors. Asked why and he said hates the updates on search :( http://t.co/XvmTUikWln\n",
      "why?:(\"@tahuodyy: sialan:( https://t.co/Hv1i0xcrL2\"\n",
      "Athabasca glacier was there in #1948 :-( #athabasca #glacier #jasper #jaspernationalpark #alberta #explorealberta #… http://t.co/dZZdqmf7Cz\n",
      "=========================positive=========================\n",
      "#FollowFriday @France_Inte @PKuchly57 @Milipol_Paris for being top engaged members in my community this week :)\n",
      "@Lamb2ja Hey James! How odd :/ Please call our Contact Centre on 02392441234 and we will be able to assist you :) Many thanks!\n",
      "@DespiteOfficial we had a listen last night :) As You Bleed is an amazing track. When are you in Scotland?!\n",
      "@97sides CONGRATS :)\n",
      "yeaaaah yippppy!!!  my accnt verified rqst has succeed got a blue tick mark on my fb profile :) in 15 days\n",
      "@BhaktisBanter @PallaviRuhail This one is irresistible :)\n",
      "#FlipkartFashionFriday http://t.co/EbZ0L2VENM\n",
      "We don't like to keep our lovely customers waiting for long! We hope you enjoy! Happy Friday! - LWWF :) https://t.co/smyYriipxI\n",
      "@Impatientraider On second thought, there’s just not enough time for a DD :) But new shorts entering system. Sheep must be buying.\n",
      "Jgh , but we have to go to Bayan :D bye\n",
      "As an act of mischievousness, am calling the ETL layer of our in-house warehousing app Katamari.\n",
      "\n",
      "Well… as the name implies :p.\n"
     ]
    }
   ],
   "source": [
    "# take a look at some of the tweets\n",
    "print '=========================negative========================='\n",
    "for twt in negTwt[:10]:\n",
    "    print twt\n",
    "print '=========================positive========================='\n",
    "for twt in posTwt[:10]:\n",
    "    print twt"
   ]
  },
  {
   "cell_type": "code",
   "execution_count": 7,
   "metadata": {
    "collapsed": false
   },
   "outputs": [
    {
     "name": "stdout",
     "output_type": "stream",
     "text": [
      "Training NBClassifier...\n",
      "Done!\n"
     ]
    }
   ],
   "source": [
    "# train naive bayes classifier use all tweets\n",
    "NBC = NBClassifier()\n",
    "print 'Training NBClassifier...'\n",
    "NBC.train(posTwt, negTwt)\n",
    "print 'Done!'"
   ]
  },
  {
   "cell_type": "code",
   "execution_count": 8,
   "metadata": {
    "collapsed": false
   },
   "outputs": [
    {
     "name": "stdout",
     "output_type": "stream",
     "text": [
      "Most Informative Features\n",
      "            contains(ff) = True           positi : neg_tw =     31.7 : 1.0\n",
      "           contains(bam) = True           positi : neg_tw =     29.7 : 1.0\n",
      "           contains(sad) = True           neg_tw : positi =     24.8 : 1.0\n",
      "     contains(community) = True           positi : neg_tw =     21.0 : 1.0\n",
      "       contains(arrived) = True           positi : neg_tw =     18.7 : 1.0\n",
      "          contains(glad) = True           positi : neg_tw =     17.0 : 1.0\n",
      "     contains(goodnight) = True           positi : neg_tw =     16.3 : 1.0\n",
      "           contains(ugh) = True           neg_tw : positi =     15.7 : 1.0\n",
      "        contains(justin) = True           neg_tw : positi =     15.4 : 1.0\n",
      "           contains(noo) = True           neg_tw : positi =     15.0 : 1.0\n",
      "None\n"
     ]
    }
   ],
   "source": [
    "print NBC.informative_features()"
   ]
  },
  {
   "cell_type": "code",
   "execution_count": null,
   "metadata": {
    "collapsed": true
   },
   "outputs": [],
   "source": [
    ""
   ]
  }
 ],
 "metadata": {
  "anaconda-cloud": {},
  "kernelspec": {
   "display_name": "Python [conda env:bhplayground]",
   "language": "python",
   "name": "conda-env-bhplayground-py"
  },
  "language_info": {
   "codemirror_mode": {
    "name": "ipython",
    "version": 2.0
   },
   "file_extension": ".py",
   "mimetype": "text/x-python",
   "name": "python",
   "nbconvert_exporter": "python",
   "pygments_lexer": "ipython2",
   "version": "2.7.12"
  }
 },
 "nbformat": 4,
 "nbformat_minor": 0
}